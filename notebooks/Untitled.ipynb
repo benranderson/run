{
 "cells": [
  {
   "cell_type": "code",
   "execution_count": 3,
   "metadata": {},
   "outputs": [],
   "source": [
    "def add(a, b):\n",
    "    return a + b\n",
    "\n",
    "def substract(a, b):\n",
    "    return a - b\n",
    "\n",
    "def multiply_three(a, b, c):\n",
    "    return a * b * c\n",
    "\n",
    "funcs = [add, substract, multiply_three]\n",
    "\n",
    "inputs = [{'a': 1, 'b': 3},\n",
    "          {'a': 3, 'b': 1},\n",
    "          {'a': 1, 'b': 2, 'c': 3}]\n",
    "\n",
    "result = [func(**i) for func, i in zip(funcs, inputs)]"
   ]
  },
  {
   "cell_type": "code",
   "execution_count": 4,
   "metadata": {},
   "outputs": [
    {
     "name": "stdout",
     "output_type": "stream",
     "text": [
      "[4, 2, 6]\n"
     ]
    }
   ],
   "source": [
    "print(result)"
   ]
  },
  {
   "cell_type": "code",
   "execution_count": null,
   "metadata": {},
   "outputs": [],
   "source": []
  }
 ],
 "metadata": {
  "kernelspec": {
   "display_name": "Python 3",
   "language": "python",
   "name": "python3"
  },
  "language_info": {
   "codemirror_mode": {
    "name": "ipython",
    "version": 3
   },
   "file_extension": ".py",
   "mimetype": "text/x-python",
   "name": "python",
   "nbconvert_exporter": "python",
   "pygments_lexer": "ipython3",
   "version": "3.6.3"
  }
 },
 "nbformat": 4,
 "nbformat_minor": 2
}
