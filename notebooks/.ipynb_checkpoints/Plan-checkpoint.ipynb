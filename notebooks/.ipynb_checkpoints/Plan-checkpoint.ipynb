{
 "cells": [
  {
   "cell_type": "code",
   "execution_count": 2,
   "metadata": {},
   "outputs": [],
   "source": [
    "from collections import namedtuple\n",
    "from datetime import datetime\n",
    "from pprint import pprint\n",
    "from itertools import cycle"
   ]
  },
  {
   "cell_type": "code",
   "execution_count": 34,
   "metadata": {},
   "outputs": [],
   "source": [
    "Set_ = namedtuple('Set_', [\n",
    "    'reps',\n",
    "    'exercises',\n",
    "])\n",
    "\n",
    "Exercise = namedtuple('Exercise', [\n",
    "    'name',\n",
    "    'time',\n",
    "])\n",
    "\n",
    "RepsSetting = namedtuple('RepsSetting', [\n",
    "    'start',\n",
    "    'step',\n",
    "    'step_interval',\n",
    "    'max',\n",
    "])\n",
    "\n",
    "ExerciseSetting = namedtuple('ExerciseSetting', [\n",
    "    'description',\n",
    "    'start',\n",
    "    'step',\n",
    "    'step_interval',\n",
    "    'max',\n",
    "])"
   ]
  },
  {
   "cell_type": "code",
   "execution_count": null,
   "metadata": {},
   "outputs": [],
   "source": [
    "progress_settings = {\n",
    "    'runeasy': {'warmup': 0,\n",
    "                'warmdown': 0,\n",
    "                'reps': RepsSetting(1, 0, 0, 1),\n",
    "                'exercises': [ExerciseSetting('easy', 25, 5, 3, 100)]},\n",
    "    'hillsprint': {'warmup': 12,\n",
    "                   'warmdown': 12,\n",
    "                   'reps': RepsSetting(6, 1, 2, 8),\n",
    "                   'exercises': [ExerciseSetting('hill', 1, 0.25, 2, 2)]},\n",
    "    'intervals': {'warmup': 10,\n",
    "                  'warmdown': 10,\n",
    "                  'reps': RepsSetting(5, 0, 0, 1),\n",
    "                  'exercises': [ExerciseSetting('fast', 0.5, 0.25, 2, 2),\n",
    "                                ExerciseSetting('easy', 1, 0, 0, 1)]},\n",
    "    'crosstrain': {'warmup': 0,\n",
    "                   'warmdown': 0,\n",
    "                   'reps': RepsSetting(1, 0, 0, 1),\n",
    "                   'exercises': [ExerciseSetting('crosstrain', 30, 0, 0, 30)]},\n",
    "}\n",
    "\n",
    "\n",
    "plans = {\n",
    "    'beginner': [['runeasy', ],\n",
    "                 ['hillsprint', ],\n",
    "                 ['intervals', ]],\n",
    "    'intermediate': [['runeasy', ],\n",
    "                     ['hillsprint', 'runeasy'],\n",
    "                     ['intervals', ]],\n",
    "    'advanced': [['runeasy', ],\n",
    "                 ['hillsprint', 'intervals'],\n",
    "                 ['intervals', ],\n",
    "                 ['crosstrain', ]],\n",
    "}"
   ]
  },
  {
   "cell_type": "code",
   "execution_count": 35,
   "metadata": {},
   "outputs": [],
   "source": [
    "def rest_week(week, plan_length):\n",
    "    '''\n",
    "    int -> boolean\n",
    "\n",
    "    Determine if current week is a rest week.\n",
    "\n",
    "    Plans work on a 4 week block, with every 4th week being an easier week.\n",
    "    Runner has at least 2 weeks, and a maximum of 5 weeks before they get an\n",
    "    easier week.  So if they were on a 6 week plan they would only have an\n",
    "    easier week on race week.\n",
    "\n",
    "    Returns True if rest week and False if progression week.\n",
    "    '''\n",
    "    build_up = plan_length % 4\n",
    "    if week <= build_up < 3:\n",
    "        return False\n",
    "    elif (week - build_up) % 4 == 0:\n",
    "        return True\n",
    "    else:\n",
    "        return False"
   ]
  },
  {
   "cell_type": "code",
   "execution_count": 36,
   "metadata": {},
   "outputs": [],
   "source": [
    "def create_plan(ability, length, days=[0, 1, 2]):\n",
    "    \"\"\" Create bespoke training plan.\n",
    "    int\n",
    "    list\n",
    "    --> dict\n",
    "    plan = {'date': workout}\n",
    "    \"\"\"\n",
    "\n",
    "    bespoke = {}\n",
    "\n",
    "    for day, plan in zip(days, plans[ability]):\n",
    "        for wk, progression in zip(range(length), cycle(plan)):\n",
    "            ps = progress_settings[progression]\n",
    "            workout = {}\n",
    "            workout['warmup'] = Exercise('easy', ps['warmup'])\n",
    "            workout['warmdown'] = Exercise('easy', ps['warmdown'])\n",
    "\n",
    "            if rest_week(wk, length):\n",
    "                multiple = wk - 1\n",
    "            else:\n",
    "                multiple = wk\n",
    "\n",
    "#             if wk % ps['reps'].step_interval == 0:\n",
    "#                 reps = ps['reps'].start + ps['reps'].step * multiple\n",
    "\n",
    "            workout['reps'] = min(ps['reps'].start +\n",
    "                                  ps['reps'].step * multiple, ps['reps'].max)\n",
    "\n",
    "            workout['exercises'] = []\n",
    "            for es in ps['exercises']:\n",
    "                description = es.description\n",
    "                time = min(es.start + es.step * multiple, es.max)\n",
    "                workout['exercises'].append(Exercise(description, time))\n",
    "            bespoke[f'wk{wk}-day{day}'] = workout\n",
    "\n",
    "    return bespoke"
   ]
  },
  {
   "cell_type": "code",
   "execution_count": 44,
   "metadata": {},
   "outputs": [],
   "source": [
    "plan = create_plan('advanced', 20,  [0, 2, 4, 5])"
   ]
  },
  {
   "cell_type": "code",
   "execution_count": 45,
   "metadata": {},
   "outputs": [
    {
     "name": "stdout",
     "output_type": "stream",
     "text": [
      "{'wk0-day0': {1: [Exercise(name='easy', time=25)]}}\n",
      "{'wk1-day0': {1: [Exercise(name='easy', time=30)]}}\n",
      "{'wk2-day0': {1: [Exercise(name='easy', time=35)]}}\n",
      "{'wk3-day0': {1: [Exercise(name='easy', time=40)]}}\n",
      "{'wk4-day0': {1: [Exercise(name='easy', time=40)]}}\n",
      "{'wk5-day0': {1: [Exercise(name='easy', time=50)]}}\n",
      "{'wk6-day0': {1: [Exercise(name='easy', time=55)]}}\n",
      "{'wk7-day0': {1: [Exercise(name='easy', time=60)]}}\n",
      "{'wk8-day0': {1: [Exercise(name='easy', time=60)]}}\n",
      "{'wk9-day0': {1: [Exercise(name='easy', time=70)]}}\n",
      "{'wk10-day0': {1: [Exercise(name='easy', time=75)]}}\n",
      "{'wk11-day0': {1: [Exercise(name='easy', time=80)]}}\n",
      "{'wk12-day0': {1: [Exercise(name='easy', time=80)]}}\n",
      "{'wk13-day0': {1: [Exercise(name='easy', time=90)]}}\n",
      "{'wk14-day0': {1: [Exercise(name='easy', time=95)]}}\n",
      "{'wk15-day0': {1: [Exercise(name='easy', time=100)]}}\n",
      "{'wk16-day0': {1: [Exercise(name='easy', time=100)]}}\n",
      "{'wk17-day0': {1: [Exercise(name='easy', time=100)]}}\n",
      "{'wk18-day0': {1: [Exercise(name='easy', time=100)]}}\n",
      "{'wk19-day0': {1: [Exercise(name='easy', time=100)]}}\n"
     ]
    }
   ],
   "source": [
    "for session in plan:\n",
    "    if 'day0' in session:\n",
    "        pprint({session: {plan[session]['reps']: plan[session]['exercises']}})"
   ]
  },
  {
   "cell_type": "code",
   "execution_count": 46,
   "metadata": {},
   "outputs": [
    {
     "name": "stdout",
     "output_type": "stream",
     "text": [
      "{'wk0-day2': {6: [Exercise(name='hill', time=1.0)]}}\n",
      "{'wk1-day2': {1: [Exercise(name='fast', time=0.75),\n",
      "                  Exercise(name='easy', time=1)]}}\n",
      "{'wk2-day2': {8: [Exercise(name='hill', time=1.5)]}}\n",
      "{'wk3-day2': {1: [Exercise(name='fast', time=1.25),\n",
      "                  Exercise(name='easy', time=1)]}}\n",
      "{'wk4-day2': {8: [Exercise(name='hill', time=1.75)]}}\n",
      "{'wk5-day2': {1: [Exercise(name='fast', time=1.75),\n",
      "                  Exercise(name='easy', time=1)]}}\n",
      "{'wk6-day2': {8: [Exercise(name='hill', time=2)]}}\n",
      "{'wk7-day2': {1: [Exercise(name='fast', time=2),\n",
      "                  Exercise(name='easy', time=1)]}}\n",
      "{'wk8-day2': {8: [Exercise(name='hill', time=2)]}}\n",
      "{'wk9-day2': {1: [Exercise(name='fast', time=2),\n",
      "                  Exercise(name='easy', time=1)]}}\n",
      "{'wk10-day2': {8: [Exercise(name='hill', time=2)]}}\n",
      "{'wk11-day2': {1: [Exercise(name='fast', time=2),\n",
      "                   Exercise(name='easy', time=1)]}}\n",
      "{'wk12-day2': {8: [Exercise(name='hill', time=2)]}}\n",
      "{'wk13-day2': {1: [Exercise(name='fast', time=2),\n",
      "                   Exercise(name='easy', time=1)]}}\n",
      "{'wk14-day2': {8: [Exercise(name='hill', time=2)]}}\n",
      "{'wk15-day2': {1: [Exercise(name='fast', time=2),\n",
      "                   Exercise(name='easy', time=1)]}}\n",
      "{'wk16-day2': {8: [Exercise(name='hill', time=2)]}}\n",
      "{'wk17-day2': {1: [Exercise(name='fast', time=2),\n",
      "                   Exercise(name='easy', time=1)]}}\n",
      "{'wk18-day2': {8: [Exercise(name='hill', time=2)]}}\n",
      "{'wk19-day2': {1: [Exercise(name='fast', time=2),\n",
      "                   Exercise(name='easy', time=1)]}}\n"
     ]
    }
   ],
   "source": [
    "for session in plan:\n",
    "    if 'day2' in session:\n",
    "        pprint({session: {plan[session]['reps']: plan[session]['exercises']}})"
   ]
  },
  {
   "cell_type": "code",
   "execution_count": 47,
   "metadata": {},
   "outputs": [
    {
     "name": "stdout",
     "output_type": "stream",
     "text": [
      "{'wk0-day4': {1: [Exercise(name='fast', time=0.5),\n",
      "                  Exercise(name='easy', time=1)]}}\n",
      "{'wk1-day4': {1: [Exercise(name='fast', time=0.75),\n",
      "                  Exercise(name='easy', time=1)]}}\n",
      "{'wk2-day4': {1: [Exercise(name='fast', time=1.0),\n",
      "                  Exercise(name='easy', time=1)]}}\n",
      "{'wk3-day4': {1: [Exercise(name='fast', time=1.25),\n",
      "                  Exercise(name='easy', time=1)]}}\n",
      "{'wk4-day4': {1: [Exercise(name='fast', time=1.25),\n",
      "                  Exercise(name='easy', time=1)]}}\n",
      "{'wk5-day4': {1: [Exercise(name='fast', time=1.75),\n",
      "                  Exercise(name='easy', time=1)]}}\n",
      "{'wk6-day4': {1: [Exercise(name='fast', time=2.0),\n",
      "                  Exercise(name='easy', time=1)]}}\n",
      "{'wk7-day4': {1: [Exercise(name='fast', time=2),\n",
      "                  Exercise(name='easy', time=1)]}}\n",
      "{'wk8-day4': {1: [Exercise(name='fast', time=2),\n",
      "                  Exercise(name='easy', time=1)]}}\n",
      "{'wk9-day4': {1: [Exercise(name='fast', time=2),\n",
      "                  Exercise(name='easy', time=1)]}}\n",
      "{'wk10-day4': {1: [Exercise(name='fast', time=2),\n",
      "                   Exercise(name='easy', time=1)]}}\n",
      "{'wk11-day4': {1: [Exercise(name='fast', time=2),\n",
      "                   Exercise(name='easy', time=1)]}}\n",
      "{'wk12-day4': {1: [Exercise(name='fast', time=2),\n",
      "                   Exercise(name='easy', time=1)]}}\n",
      "{'wk13-day4': {1: [Exercise(name='fast', time=2),\n",
      "                   Exercise(name='easy', time=1)]}}\n",
      "{'wk14-day4': {1: [Exercise(name='fast', time=2),\n",
      "                   Exercise(name='easy', time=1)]}}\n",
      "{'wk15-day4': {1: [Exercise(name='fast', time=2),\n",
      "                   Exercise(name='easy', time=1)]}}\n",
      "{'wk16-day4': {1: [Exercise(name='fast', time=2),\n",
      "                   Exercise(name='easy', time=1)]}}\n",
      "{'wk17-day4': {1: [Exercise(name='fast', time=2),\n",
      "                   Exercise(name='easy', time=1)]}}\n",
      "{'wk18-day4': {1: [Exercise(name='fast', time=2),\n",
      "                   Exercise(name='easy', time=1)]}}\n",
      "{'wk19-day4': {1: [Exercise(name='fast', time=2),\n",
      "                   Exercise(name='easy', time=1)]}}\n"
     ]
    }
   ],
   "source": [
    "for session in plan:\n",
    "    if 'day4' in session:\n",
    "        pprint({session: {plan[session]['reps']: plan[session]['exercises']}})"
   ]
  },
  {
   "cell_type": "code",
   "execution_count": 48,
   "metadata": {},
   "outputs": [
    {
     "name": "stdout",
     "output_type": "stream",
     "text": [
      "{'wk0-day5': {1: [Exercise(name='crosstrain', time=30)]}}\n",
      "{'wk1-day5': {1: [Exercise(name='crosstrain', time=30)]}}\n",
      "{'wk2-day5': {1: [Exercise(name='crosstrain', time=30)]}}\n",
      "{'wk3-day5': {1: [Exercise(name='crosstrain', time=30)]}}\n",
      "{'wk4-day5': {1: [Exercise(name='crosstrain', time=30)]}}\n",
      "{'wk5-day5': {1: [Exercise(name='crosstrain', time=30)]}}\n",
      "{'wk6-day5': {1: [Exercise(name='crosstrain', time=30)]}}\n",
      "{'wk7-day5': {1: [Exercise(name='crosstrain', time=30)]}}\n",
      "{'wk8-day5': {1: [Exercise(name='crosstrain', time=30)]}}\n",
      "{'wk9-day5': {1: [Exercise(name='crosstrain', time=30)]}}\n",
      "{'wk10-day5': {1: [Exercise(name='crosstrain', time=30)]}}\n",
      "{'wk11-day5': {1: [Exercise(name='crosstrain', time=30)]}}\n",
      "{'wk12-day5': {1: [Exercise(name='crosstrain', time=30)]}}\n",
      "{'wk13-day5': {1: [Exercise(name='crosstrain', time=30)]}}\n",
      "{'wk14-day5': {1: [Exercise(name='crosstrain', time=30)]}}\n",
      "{'wk15-day5': {1: [Exercise(name='crosstrain', time=30)]}}\n",
      "{'wk16-day5': {1: [Exercise(name='crosstrain', time=30)]}}\n",
      "{'wk17-day5': {1: [Exercise(name='crosstrain', time=30)]}}\n",
      "{'wk18-day5': {1: [Exercise(name='crosstrain', time=30)]}}\n",
      "{'wk19-day5': {1: [Exercise(name='crosstrain', time=30)]}}\n"
     ]
    }
   ],
   "source": [
    "for session in plan:\n",
    "    if 'day5' in session:\n",
    "        pprint({session: {plan[session]['reps']: plan[session]['exercises']}})"
   ]
  },
  {
   "cell_type": "code",
   "execution_count": null,
   "metadata": {},
   "outputs": [],
   "source": []
  }
 ],
 "metadata": {
  "kernelspec": {
   "display_name": "Python 3",
   "language": "python",
   "name": "python3"
  },
  "language_info": {
   "codemirror_mode": {
    "name": "ipython",
    "version": 3
   },
   "file_extension": ".py",
   "mimetype": "text/x-python",
   "name": "python",
   "nbconvert_exporter": "python",
   "pygments_lexer": "ipython3",
   "version": "3.6.3"
  }
 },
 "nbformat": 4,
 "nbformat_minor": 2
}
